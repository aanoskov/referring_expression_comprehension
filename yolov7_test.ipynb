{
 "cells": [
  {
   "cell_type": "code",
   "execution_count": 1,
   "metadata": {},
   "outputs": [],
   "source": [
    "import os\n",
    "import cv2\n",
    "import pandas as pd\n",
    "import numpy as np"
   ]
  },
  {
   "cell_type": "code",
   "execution_count": 2,
   "metadata": {},
   "outputs": [
    {
     "data": {
      "text/plain": [
       "1705"
      ]
     },
     "execution_count": 2,
     "metadata": {},
     "output_type": "execute_result"
    }
   ],
   "source": [
    "len(os.listdir('/OFA/imgs_test_public'))"
   ]
  },
  {
   "cell_type": "code",
   "execution_count": null,
   "metadata": {},
   "outputs": [],
   "source": [
    "%cd yolov7/"
   ]
  },
  {
   "cell_type": "code",
   "execution_count": null,
   "metadata": {},
   "outputs": [],
   "source": []
  },
  {
   "cell_type": "code",
   "execution_count": 3,
   "metadata": {},
   "outputs": [],
   "source": [
    "def get_new_coords(x_center, y_center, w, h):\n",
    "    x_left = int(x_center - w / 2.)\n",
    "    x_right = int(x_center + w / 2.)\n",
    "    y_top = int(y_center - h / 2.)\n",
    "    y_bot = int(y_center + h / 2.)\n",
    "    return (x_left, y_top), (x_right, y_bot)"
   ]
  },
  {
   "cell_type": "code",
   "execution_count": 4,
   "metadata": {},
   "outputs": [],
   "source": [
    "def get_iou(bb1, bb2):\n",
    "    # Taken from https://stackoverflow.com/a/42874377\n",
    "    \"\"\"\n",
    "    Calculate the Intersection over Union (IoU) of two bounding boxes.\n",
    "\n",
    "    Parameters\n",
    "    ----------\n",
    "    bb1 : dict\n",
    "        Keys: {'x1', 'x2', 'y1', 'y2'}\n",
    "        The (x1, y1) position is at the top left corner,\n",
    "        the (x2, y2) position is at the bottom right corner\n",
    "    bb2 : dict\n",
    "        Keys: {'x1', 'x2', 'y1', 'y2'}\n",
    "        The (x, y) position is at the top left corner,\n",
    "        the (x2, y2) position is at the bottom right corner\n",
    "\n",
    "    Returns\n",
    "    -------\n",
    "    float\n",
    "        in [0, 1]\n",
    "    \"\"\"\n",
    "    assert bb1['x1'] < bb1['x2']\n",
    "    assert bb1['y1'] < bb1['y2']\n",
    "    assert bb2['x1'] < bb2['x2']\n",
    "    assert bb2['y1'] < bb2['y2']\n",
    "\n",
    "    # determine the coordinates of the intersection rectangle\n",
    "    x_left = max(bb1['x1'], bb2['x1'])\n",
    "    y_top = max(bb1['y1'], bb2['y1'])\n",
    "    x_right = min(bb1['x2'], bb2['x2'])\n",
    "    y_bottom = min(bb1['y2'], bb2['y2'])\n",
    "\n",
    "    if x_right < x_left or y_bottom < y_top:\n",
    "        return 0.0\n",
    "\n",
    "    # The intersection of two axis-aligned bounding boxes is always an\n",
    "    # axis-aligned bounding box\n",
    "    intersection_area = (x_right - x_left) * (y_bottom - y_top)\n",
    "\n",
    "    # compute the area of both AABBs\n",
    "    bb1_area = (bb1['x2'] - bb1['x1']) * (bb1['y2'] - bb1['y1'])\n",
    "    bb2_area = (bb2['x2'] - bb2['x1']) * (bb2['y2'] - bb2['y1'])\n",
    "\n",
    "    # compute the intersection over union by taking the intersection\n",
    "    # area and dividing it by the sum of prediction + ground-truth\n",
    "    # areas - the interesection area\n",
    "    iou = intersection_area / float(bb1_area + bb2_area - intersection_area)\n",
    "    assert iou >= 0.0\n",
    "    assert iou <= 1.0\n",
    "    return iou"
   ]
  },
  {
   "cell_type": "code",
   "execution_count": 5,
   "metadata": {},
   "outputs": [
    {
     "data": {
      "text/html": [
       "<div>\n",
       "<style scoped>\n",
       "    .dataframe tbody tr th:only-of-type {\n",
       "        vertical-align: middle;\n",
       "    }\n",
       "\n",
       "    .dataframe tbody tr th {\n",
       "        vertical-align: top;\n",
       "    }\n",
       "\n",
       "    .dataframe thead th {\n",
       "        text-align: right;\n",
       "    }\n",
       "</style>\n",
       "<table border=\"1\" class=\"dataframe\">\n",
       "  <thead>\n",
       "    <tr style=\"text-align: right;\">\n",
       "      <th></th>\n",
       "      <th>image</th>\n",
       "      <th>width</th>\n",
       "      <th>height</th>\n",
       "      <th>left</th>\n",
       "      <th>top</th>\n",
       "      <th>right</th>\n",
       "      <th>bottom</th>\n",
       "      <th>question</th>\n",
       "    </tr>\n",
       "  </thead>\n",
       "  <tbody>\n",
       "    <tr>\n",
       "      <th>0</th>\n",
       "      <td>https://toloka-cdn.azureedge.net/wsdmcup2023/0...</td>\n",
       "      <td>500</td>\n",
       "      <td>375</td>\n",
       "      <td>130</td>\n",
       "      <td>160</td>\n",
       "      <td>217</td>\n",
       "      <td>367</td>\n",
       "      <td>Where can we cook meals</td>\n",
       "    </tr>\n",
       "    <tr>\n",
       "      <th>1</th>\n",
       "      <td>https://toloka-cdn.azureedge.net/wsdmcup2023/0...</td>\n",
       "      <td>480</td>\n",
       "      <td>640</td>\n",
       "      <td>352</td>\n",
       "      <td>479</td>\n",
       "      <td>447</td>\n",
       "      <td>512</td>\n",
       "      <td>what do we use to make and receive calls?</td>\n",
       "    </tr>\n",
       "    <tr>\n",
       "      <th>2</th>\n",
       "      <td>https://toloka-cdn.azureedge.net/wsdmcup2023/0...</td>\n",
       "      <td>500</td>\n",
       "      <td>375</td>\n",
       "      <td>318</td>\n",
       "      <td>68</td>\n",
       "      <td>499</td>\n",
       "      <td>241</td>\n",
       "      <td>Where can we watch news?</td>\n",
       "    </tr>\n",
       "    <tr>\n",
       "      <th>3</th>\n",
       "      <td>https://toloka-cdn.azureedge.net/wsdmcup2023/0...</td>\n",
       "      <td>640</td>\n",
       "      <td>426</td>\n",
       "      <td>130</td>\n",
       "      <td>135</td>\n",
       "      <td>377</td>\n",
       "      <td>275</td>\n",
       "      <td>What is used to change TV channels?</td>\n",
       "    </tr>\n",
       "    <tr>\n",
       "      <th>4</th>\n",
       "      <td>https://toloka-cdn.azureedge.net/wsdmcup2023/0...</td>\n",
       "      <td>640</td>\n",
       "      <td>472</td>\n",
       "      <td>224</td>\n",
       "      <td>0</td>\n",
       "      <td>268</td>\n",
       "      <td>47</td>\n",
       "      <td>What is used to carry more belongings?</td>\n",
       "    </tr>\n",
       "  </tbody>\n",
       "</table>\n",
       "</div>"
      ],
      "text/plain": [
       "                                               image  width  height  left  \\\n",
       "0  https://toloka-cdn.azureedge.net/wsdmcup2023/0...    500     375   130   \n",
       "1  https://toloka-cdn.azureedge.net/wsdmcup2023/0...    480     640   352   \n",
       "2  https://toloka-cdn.azureedge.net/wsdmcup2023/0...    500     375   318   \n",
       "3  https://toloka-cdn.azureedge.net/wsdmcup2023/0...    640     426   130   \n",
       "4  https://toloka-cdn.azureedge.net/wsdmcup2023/0...    640     472   224   \n",
       "\n",
       "   top  right  bottom                                   question  \n",
       "0  160    217     367                    Where can we cook meals  \n",
       "1  479    447     512  what do we use to make and receive calls?  \n",
       "2   68    499     241                   Where can we watch news?  \n",
       "3  135    377     275        What is used to change TV channels?  \n",
       "4    0    268      47     What is used to carry more belongings?  "
      ]
     },
     "execution_count": 5,
     "metadata": {},
     "output_type": "execute_result"
    }
   ],
   "source": [
    "test_public = pd.read_csv('ofa_test/test_public.csv')\n",
    "test_public.head()"
   ]
  },
  {
   "cell_type": "code",
   "execution_count": 6,
   "metadata": {},
   "outputs": [
    {
     "name": "stdout",
     "output_type": "stream",
     "text": [
      "Did not found /media/hdd/anoskov/ofa_test/yolov7/runs/detect/exp/labels/000000070028.txt file\n",
      "Did not found /media/hdd/anoskov/ofa_test/yolov7/runs/detect/exp/labels/000000092387.txt file\n",
      "Did not found /media/hdd/anoskov/ofa_test/yolov7/runs/detect/exp/labels/000000166149.txt file\n",
      "Did not found /media/hdd/anoskov/ofa_test/yolov7/runs/detect/exp/labels/000000254415.txt file\n",
      "Did not found /media/hdd/anoskov/ofa_test/yolov7/runs/detect/exp/labels/000000388635.txt file\n",
      "Did not found /media/hdd/anoskov/ofa_test/yolov7/runs/detect/exp/labels/000000404627.txt file\n",
      "Did not found /media/hdd/anoskov/ofa_test/yolov7/runs/detect/exp/labels/000000417535.txt file\n",
      "Did not found /media/hdd/anoskov/ofa_test/yolov7/runs/detect/exp/labels/000000419407.txt file\n",
      "Did not found /media/hdd/anoskov/ofa_test/yolov7/runs/detect/exp/labels/000000468002.txt file\n",
      "Did not found /media/hdd/anoskov/ofa_test/yolov7/runs/detect/exp/labels/000000478104.txt file\n",
      "Did not found /media/hdd/anoskov/ofa_test/yolov7/runs/detect/exp/labels/000000507437.txt file\n",
      "Did not found /media/hdd/anoskov/ofa_test/yolov7/runs/detect/exp/labels/000000517366.txt file\n",
      "Did not found /media/hdd/anoskov/ofa_test/yolov7/runs/detect/exp/labels/000000546068.txt file\n",
      "Did not found /media/hdd/anoskov/ofa_test/yolov7/runs/detect/exp/labels/000000566759.txt file\n",
      "Did not found /media/hdd/anoskov/ofa_test/yolov7/runs/detect/exp/labels/000000571877.txt file\n"
     ]
    }
   ],
   "source": [
    "labels_path = 'yolov7/runs/detect/exp/labels/'\n",
    "color = (255, 0, 0)\n",
    "\n",
    "test_public_iou = [0 for i in range(len(test_public))]\n",
    "\n",
    "for id, row in test_public.iterrows():\n",
    "    # print(row[1]['image'])\n",
    "    img_path = row['image'][-16:]\n",
    "    # print(img_path)\n",
    "    im = cv2.imread('/OFA/imgs_test_public/' + img_path)\n",
    "    lbl = labels_path + img_path[:-3] +'txt'\n",
    "    right_true = row['right']\n",
    "    bottom_true = row['bottom']\n",
    "    left_true = row['left']\n",
    "    top_true = row['top']\n",
    "    bb_true = {'x1': left_true, 'y1': top_true, 'x2': right_true, 'y2': bottom_true}\n",
    "    true_img = cv2.rectangle(im, (bb_true['x1'], bb_true['y1']), (bb_true['x2'], bb_true['y2']), color)\n",
    "    # print(row[1]['question'])\n",
    "    # cv2.imshow('true_img', true_img)\n",
    "    # if lbl == '/content/yolor/runs/detect/exp6/labels/000000001066.txt':\n",
    "        # print(lbl)\n",
    "    try:\n",
    "        with open(lbl) as f:\n",
    "            # print(im.shape)\n",
    "            img_height, img_width, _  = im.shape\n",
    "            lines = f.readlines()\n",
    "            best_iou = 0.\n",
    "            for line in lines:\n",
    "                _, x_center, y_center, w, h = line.split(' ')\n",
    "                _, x_center, y_center, w, h = int(_), float(x_center) * img_width, float(y_center) * img_height, float(w) * img_width, float(h) * img_height\n",
    "                start_point, end_point = get_new_coords(x_center, y_center, w, h)\n",
    "                new_img = cv2.rectangle(im, start_point, end_point, color)\n",
    "                # print(start_point, end_point, h, w)\n",
    "                # cv2.imshow('predict_img', new_img)\n",
    "                pred_bb = {'x1': start_point[0], 'y1': start_point[1], 'x2': end_point[0], 'y2': end_point[1]}\n",
    "                cur_iou = get_iou(bb_true, pred_bb)\n",
    "                if cur_iou > best_iou:\n",
    "                    best_iou = cur_iou\n",
    "            test_public_iou[id] = best_iou\n",
    "    except:\n",
    "        print(f'Did not found {lbl} file')\n",
    "\n",
    "        # print(get_iou(bb_true, pred_bb))\n",
    "      # break"
   ]
  },
  {
   "cell_type": "code",
   "execution_count": 7,
   "metadata": {},
   "outputs": [
    {
     "name": "stdout",
     "output_type": "stream",
     "text": [
      "Pecrentle 10-th : 0.0\n",
      "Pecrentle 20-th : 0.0095543644895592\n",
      "Pecrentle 30-th : 0.03505737721877075\n",
      "Pecrentle 40-th : 0.11199060959598878\n",
      "Pecrentle 50-th : 0.6715288966509648\n",
      "Pecrentle 60-th : 0.8551993214588633\n",
      "Pecrentle 70-th : 0.9125793166564978\n",
      "Pecrentle 80-th : 0.9411641753424994\n",
      "Pecrentle 90-th : 0.9654366182204315\n",
      "Pecrentle 100-th : 1.0\n",
      "Mean value : 0.497429095813356\n"
     ]
    }
   ],
   "source": [
    "for i in range(10, 101, 10):\n",
    "    print(f'Pecrentle {i}-th : {np.percentile(test_public_iou, i)}')\n",
    "print(f'Mean value : {np.mean(test_public_iou)}')"
   ]
  },
  {
   "cell_type": "markdown",
   "metadata": {},
   "source": [
    "Pecrentle 40-th : 0.11199060959598878\n",
    "Pecrentle 50-th : 0.6715288966509648\n",
    " --conf 0.25\n",
    "\n"
   ]
  },
  {
   "cell_type": "markdown",
   "metadata": {},
   "source": [
    "## Baseline with CLIP"
   ]
  },
  {
   "cell_type": "code",
   "execution_count": 11,
   "metadata": {},
   "outputs": [],
   "source": [
    "import clip\n",
    "import shutil\n",
    "import os\n",
    "from tqdm.auto import tqdm\n",
    "import torch\n",
    "from PIL import Image\n",
    "import matplotlib.pyplot as plt"
   ]
  },
  {
   "cell_type": "code",
   "execution_count": 9,
   "metadata": {},
   "outputs": [],
   "source": [
    "device = 'cuda:1'"
   ]
  },
  {
   "cell_type": "code",
   "execution_count": 14,
   "metadata": {},
   "outputs": [],
   "source": [
    "def process_image(img_path, bb_prediction, preprocess):\n",
    "    np_img = cv2.imread(img_path)\n",
    "    imgs = []\n",
    "    with open(bb_prediction) as f:\n",
    "        lines = f.readlines()\n",
    "    bbs = [list(map(float, line.split(' ')[1:5])) for line in lines]\n",
    "    bbs_processed = []\n",
    "    for bb in bbs:\n",
    "        y, x, h, w = bb\n",
    "        height, width, channels = np_img.shape\n",
    "        x *= height\n",
    "        w *= height\n",
    "        y *= width\n",
    "        h *= width\n",
    "        crop = np_img[int(x - w // 2):int(x + w // 2), int(y - h // 2):int(y + h // 2), :]\n",
    "        imgs.append(preprocess(Image.fromarray(crop)).unsqueeze(0).to(device))\n",
    "        bbs_processed.append({'y1': int(x - w // 2), 'y2': int(x + w // 2), 'x1': int(y - h // 2), 'x2': int(y + h // 2)})\n",
    "    return imgs, bbs_processed\n",
    "\n",
    "def predict(img_url, question, preprocess, model):\n",
    "    img_path = os.path.join('OFA/imgs_test_public/', img_url.split('/')[-1])\n",
    "    # bb_prediction = os.path.join('yolov7', 'inference', 'output', img_url.split('/')[-1]).replace('.jpg', '.txt')\n",
    "    bb_prediction = os.path.join('yolov7/runs/detect/exp/labels/', img_url.split('/')[-1]).replace('.jpg', '.txt')\n",
    "    imgs, bbs_processed = process_image(img_path, bb_prediction, preprocess)\n",
    "\n",
    "    text = clip.tokenize([question]).to(device)\n",
    "    probs = []\n",
    "    for img in imgs:\n",
    "        with torch.no_grad():\n",
    "            logits_per_image, logits_per_text = model(img, text)\n",
    "            probs.append(logits_per_image.softmax(dim=-1).cpu().numpy()[0][0])\n",
    "    \n",
    "    return bbs_processed[np.argmax(probs)]\n",
    "\n",
    "def draw_prediction(img_url, pred_bb, gt_bb):\n",
    "    img_path = os.path.join('imgs', img_url.split('/')[-1])\n",
    "    img = cv2.imread(img_path)\n",
    "    \n",
    "    result = img.copy()\n",
    "    cv2.rectangle(result, (gt_bb['x1'], gt_bb['y1']), (gt_bb['x2'], gt_bb['y2']), (0, 255, 0), 5)\n",
    "    cv2.rectangle(result, (pred_bb['x1'], pred_bb['y1']), (pred_bb['x2'], pred_bb['y2']), (255, 0, 0), 5)\n",
    "    plt.figure(figsize=(12, 8))\n",
    "    plt.imshow(cv2.cvtColor(result, cv2.COLOR_BGR2RGB))\n",
    "    plt.show()"
   ]
  },
  {
   "cell_type": "code",
   "execution_count": 16,
   "metadata": {},
   "outputs": [
    {
     "data": {
      "text/plain": [
       "'cuda'"
      ]
     },
     "execution_count": 16,
     "metadata": {},
     "output_type": "execute_result"
    }
   ],
   "source": [
    "device = 'cuda' if torch.cuda.is_available() else 'cpu'\n",
    "device"
   ]
  },
  {
   "cell_type": "code",
   "execution_count": null,
   "metadata": {},
   "outputs": [],
   "source": []
  },
  {
   "cell_type": "code",
   "execution_count": 12,
   "metadata": {},
   "outputs": [],
   "source": [
    "model, preprocess = clip.load(\"ViT-B/32\", device=device)"
   ]
  },
  {
   "cell_type": "code",
   "execution_count": 24,
   "metadata": {},
   "outputs": [
    {
     "name": "stdout",
     "output_type": "stream",
     "text": [
      "/media/hdd/anoskov/ofa_test/yolov7\n"
     ]
    }
   ],
   "source": [
    "!pwd"
   ]
  },
  {
   "cell_type": "code",
   "execution_count": 15,
   "metadata": {},
   "outputs": [
    {
     "name": "stderr",
     "output_type": "stream",
     "text": [
      "IoU: 12.4:  10%|█         | 179/1705 [00:19<02:16, 11.19it/s] "
     ]
    },
    {
     "name": "stdout",
     "output_type": "stream",
     "text": [
      "Not predicted\n"
     ]
    },
    {
     "name": "stderr",
     "output_type": "stream",
     "text": [
      "IoU: 12.96:  14%|█▍        | 246/1705 [00:25<03:33,  6.83it/s]"
     ]
    },
    {
     "name": "stdout",
     "output_type": "stream",
     "text": [
      "Not predicted\n"
     ]
    },
    {
     "name": "stderr",
     "output_type": "stream",
     "text": [
      "IoU: 12.22:  26%|██▌       | 447/1705 [00:46<02:23,  8.75it/s]"
     ]
    },
    {
     "name": "stdout",
     "output_type": "stream",
     "text": [
      "Not predicted\n"
     ]
    },
    {
     "name": "stderr",
     "output_type": "stream",
     "text": [
      "IoU: 11.8:  42%|████▏     | 710/1705 [01:13<01:27, 11.35it/s] "
     ]
    },
    {
     "name": "stdout",
     "output_type": "stream",
     "text": [
      "Not predicted\n"
     ]
    },
    {
     "name": "stderr",
     "output_type": "stream",
     "text": [
      "IoU: 11.02:  65%|██████▌   | 1111/1705 [01:58<01:09,  8.53it/s]"
     ]
    },
    {
     "name": "stdout",
     "output_type": "stream",
     "text": [
      "Not predicted\n"
     ]
    },
    {
     "name": "stderr",
     "output_type": "stream",
     "text": [
      "IoU: 11.15:  68%|██████▊   | 1164/1705 [02:03<00:36, 14.95it/s]"
     ]
    },
    {
     "name": "stdout",
     "output_type": "stream",
     "text": [
      "Not predicted\n"
     ]
    },
    {
     "name": "stderr",
     "output_type": "stream",
     "text": [
      "IoU: 11.05:  70%|███████   | 1200/1705 [02:06<00:32, 15.48it/s]"
     ]
    },
    {
     "name": "stdout",
     "output_type": "stream",
     "text": [
      "Not predicted\n"
     ]
    },
    {
     "name": "stderr",
     "output_type": "stream",
     "text": [
      "IoU: 11.03:  71%|███████   | 1214/1705 [02:07<00:37, 13.12it/s]"
     ]
    },
    {
     "name": "stdout",
     "output_type": "stream",
     "text": [
      "Not predicted\n"
     ]
    },
    {
     "name": "stderr",
     "output_type": "stream",
     "text": [
      "IoU: 10.91:  80%|███████▉  | 1356/1705 [02:22<00:31, 11.18it/s]"
     ]
    },
    {
     "name": "stdout",
     "output_type": "stream",
     "text": [
      "Not predicted\n"
     ]
    },
    {
     "name": "stderr",
     "output_type": "stream",
     "text": [
      "IoU: 10.85:  81%|████████  | 1381/1705 [02:24<00:29, 10.96it/s]"
     ]
    },
    {
     "name": "stdout",
     "output_type": "stream",
     "text": [
      "Not predicted\n"
     ]
    },
    {
     "name": "stderr",
     "output_type": "stream",
     "text": [
      "IoU: 10.87:  86%|████████▋ | 1471/1705 [02:34<00:19, 11.95it/s]"
     ]
    },
    {
     "name": "stdout",
     "output_type": "stream",
     "text": [
      "Not predicted\n"
     ]
    },
    {
     "name": "stderr",
     "output_type": "stream",
     "text": [
      "IoU: 11.22:  88%|████████▊ | 1496/1705 [02:36<00:15, 13.70it/s]"
     ]
    },
    {
     "name": "stdout",
     "output_type": "stream",
     "text": [
      "Not predicted\n"
     ]
    },
    {
     "name": "stderr",
     "output_type": "stream",
     "text": [
      "IoU: 11.0:  94%|█████████▎| 1595/1705 [02:47<00:08, 13.25it/s] "
     ]
    },
    {
     "name": "stdout",
     "output_type": "stream",
     "text": [
      "Not predicted\n"
     ]
    },
    {
     "name": "stderr",
     "output_type": "stream",
     "text": [
      "IoU: 11.05:  97%|█████████▋| 1655/1705 [02:52<00:03, 13.42it/s]"
     ]
    },
    {
     "name": "stdout",
     "output_type": "stream",
     "text": [
      "Not predicted\n"
     ]
    },
    {
     "name": "stderr",
     "output_type": "stream",
     "text": [
      "IoU: 11.05:  98%|█████████▊| 1673/1705 [02:54<00:02, 12.50it/s]"
     ]
    },
    {
     "name": "stdout",
     "output_type": "stream",
     "text": [
      "Not predicted\n"
     ]
    },
    {
     "name": "stderr",
     "output_type": "stream",
     "text": [
      "IoU: 11.23: 100%|██████████| 1705/1705 [02:57<00:00,  9.60it/s]\n"
     ]
    }
   ],
   "source": [
    "predictions = []\n",
    "n_imgs = 0\n",
    "total_iou = 0.0\n",
    "\n",
    "progress = tqdm(test_public.iterrows(), total=len(test_public))\n",
    "for _, row in progress:\n",
    "    img_url = row['image']\n",
    "    # print(img_url)\n",
    "    # break\n",
    "    question = row['question']\n",
    "    try:\n",
    "        bb_predicted = predict(img_url, question, preprocess, model)\n",
    "    except Exception:\n",
    "        print(\"Not predicted\")\n",
    "        continue\n",
    "    gt_bb = {'x1': row['left'], 'y1': row['top'], 'x2': row['right'], 'y2': row['bottom']}\n",
    "    total_iou += get_iou(gt_bb, bb_predicted)\n",
    "    n_imgs += 1\n",
    "    progress.set_description(f'IoU: {round(total_iou / n_imgs * 100, 2)}')\n",
    "    \n",
    "    left = bb_predicted['x1']\n",
    "    top = bb_predicted['y1']\n",
    "    right = bb_predicted['x2']\n",
    "    bottom = bb_predicted['y2']\n",
    "    predictions.append([img_url, left, top, right, bottom])\n",
    "    # break\n",
    "predictions = pd.DataFrame(predictions, columns=['image', 'left', 'top', 'right', 'bottom'])"
   ]
  },
  {
   "cell_type": "code",
   "execution_count": 54,
   "metadata": {},
   "outputs": [
    {
     "data": {
      "text/html": [
       "<div>\n",
       "<style scoped>\n",
       "    .dataframe tbody tr th:only-of-type {\n",
       "        vertical-align: middle;\n",
       "    }\n",
       "\n",
       "    .dataframe tbody tr th {\n",
       "        vertical-align: top;\n",
       "    }\n",
       "\n",
       "    .dataframe thead th {\n",
       "        text-align: right;\n",
       "    }\n",
       "</style>\n",
       "<table border=\"1\" class=\"dataframe\">\n",
       "  <thead>\n",
       "    <tr style=\"text-align: right;\">\n",
       "      <th></th>\n",
       "      <th>image</th>\n",
       "      <th>left</th>\n",
       "      <th>top</th>\n",
       "      <th>right</th>\n",
       "      <th>bottom</th>\n",
       "    </tr>\n",
       "  </thead>\n",
       "  <tbody>\n",
       "    <tr>\n",
       "      <th>0</th>\n",
       "      <td>https://toloka-cdn.azureedge.net/wsdmcup2023/0...</td>\n",
       "      <td>128</td>\n",
       "      <td>160</td>\n",
       "      <td>216</td>\n",
       "      <td>370</td>\n",
       "    </tr>\n",
       "    <tr>\n",
       "      <th>1</th>\n",
       "      <td>https://toloka-cdn.azureedge.net/wsdmcup2023/0...</td>\n",
       "      <td>20</td>\n",
       "      <td>280</td>\n",
       "      <td>70</td>\n",
       "      <td>292</td>\n",
       "    </tr>\n",
       "    <tr>\n",
       "      <th>2</th>\n",
       "      <td>https://toloka-cdn.azureedge.net/wsdmcup2023/0...</td>\n",
       "      <td>389</td>\n",
       "      <td>278</td>\n",
       "      <td>405</td>\n",
       "      <td>332</td>\n",
       "    </tr>\n",
       "    <tr>\n",
       "      <th>3</th>\n",
       "      <td>https://toloka-cdn.azureedge.net/wsdmcup2023/0...</td>\n",
       "      <td>359</td>\n",
       "      <td>2</td>\n",
       "      <td>431</td>\n",
       "      <td>110</td>\n",
       "    </tr>\n",
       "    <tr>\n",
       "      <th>4</th>\n",
       "      <td>https://toloka-cdn.azureedge.net/wsdmcup2023/0...</td>\n",
       "      <td>605</td>\n",
       "      <td>2</td>\n",
       "      <td>639</td>\n",
       "      <td>168</td>\n",
       "    </tr>\n",
       "    <tr>\n",
       "      <th>...</th>\n",
       "      <td>...</td>\n",
       "      <td>...</td>\n",
       "      <td>...</td>\n",
       "      <td>...</td>\n",
       "      <td>...</td>\n",
       "    </tr>\n",
       "    <tr>\n",
       "      <th>1685</th>\n",
       "      <td>https://toloka-cdn.azureedge.net/wsdmcup2023/0...</td>\n",
       "      <td>59</td>\n",
       "      <td>332</td>\n",
       "      <td>263</td>\n",
       "      <td>500</td>\n",
       "    </tr>\n",
       "    <tr>\n",
       "      <th>1686</th>\n",
       "      <td>https://toloka-cdn.azureedge.net/wsdmcup2023/0...</td>\n",
       "      <td>136</td>\n",
       "      <td>240</td>\n",
       "      <td>176</td>\n",
       "      <td>284</td>\n",
       "    </tr>\n",
       "    <tr>\n",
       "      <th>1687</th>\n",
       "      <td>https://toloka-cdn.azureedge.net/wsdmcup2023/0...</td>\n",
       "      <td>579</td>\n",
       "      <td>361</td>\n",
       "      <td>611</td>\n",
       "      <td>393</td>\n",
       "    </tr>\n",
       "    <tr>\n",
       "      <th>1688</th>\n",
       "      <td>https://toloka-cdn.azureedge.net/wsdmcup2023/0...</td>\n",
       "      <td>227</td>\n",
       "      <td>0</td>\n",
       "      <td>259</td>\n",
       "      <td>72</td>\n",
       "    </tr>\n",
       "    <tr>\n",
       "      <th>1689</th>\n",
       "      <td>https://toloka-cdn.azureedge.net/wsdmcup2023/0...</td>\n",
       "      <td>0</td>\n",
       "      <td>10</td>\n",
       "      <td>104</td>\n",
       "      <td>384</td>\n",
       "    </tr>\n",
       "  </tbody>\n",
       "</table>\n",
       "<p>1690 rows × 5 columns</p>\n",
       "</div>"
      ],
      "text/plain": [
       "                                                  image  left  top  right  \\\n",
       "0     https://toloka-cdn.azureedge.net/wsdmcup2023/0...   128  160    216   \n",
       "1     https://toloka-cdn.azureedge.net/wsdmcup2023/0...    20  280     70   \n",
       "2     https://toloka-cdn.azureedge.net/wsdmcup2023/0...   389  278    405   \n",
       "3     https://toloka-cdn.azureedge.net/wsdmcup2023/0...   359    2    431   \n",
       "4     https://toloka-cdn.azureedge.net/wsdmcup2023/0...   605    2    639   \n",
       "...                                                 ...   ...  ...    ...   \n",
       "1685  https://toloka-cdn.azureedge.net/wsdmcup2023/0...    59  332    263   \n",
       "1686  https://toloka-cdn.azureedge.net/wsdmcup2023/0...   136  240    176   \n",
       "1687  https://toloka-cdn.azureedge.net/wsdmcup2023/0...   579  361    611   \n",
       "1688  https://toloka-cdn.azureedge.net/wsdmcup2023/0...   227    0    259   \n",
       "1689  https://toloka-cdn.azureedge.net/wsdmcup2023/0...     0   10    104   \n",
       "\n",
       "      bottom  \n",
       "0        370  \n",
       "1        292  \n",
       "2        332  \n",
       "3        110  \n",
       "4        168  \n",
       "...      ...  \n",
       "1685     500  \n",
       "1686     284  \n",
       "1687     393  \n",
       "1688      72  \n",
       "1689     384  \n",
       "\n",
       "[1690 rows x 5 columns]"
      ]
     },
     "execution_count": 54,
     "metadata": {},
     "output_type": "execute_result"
    }
   ],
   "source": [
    "predictions"
   ]
  },
  {
   "cell_type": "code",
   "execution_count": 16,
   "metadata": {},
   "outputs": [
    {
     "data": {
      "text/plain": [
       "11.135882549888711"
      ]
     },
     "execution_count": 16,
     "metadata": {},
     "output_type": "execute_result"
    }
   ],
   "source": [
    "total_iou / len(test_public) * 100"
   ]
  }
 ],
 "metadata": {
  "kernelspec": {
   "display_name": "Python 3",
   "language": "python",
   "name": "python3"
  },
  "language_info": {
   "codemirror_mode": {
    "name": "ipython",
    "version": 3
   },
   "file_extension": ".py",
   "mimetype": "text/x-python",
   "name": "python",
   "nbconvert_exporter": "python",
   "pygments_lexer": "ipython3",
   "version": "3.8.3"
  }
 },
 "nbformat": 4,
 "nbformat_minor": 2
}
