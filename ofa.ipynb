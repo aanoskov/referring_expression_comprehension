{
 "cells": [
  {
   "cell_type": "code",
   "execution_count": null,
   "metadata": {},
   "outputs": [],
   "source": [
    "import pandas as pd\n",
    "import cv2\n",
    "import wget\n",
    "import shutil\n",
    "import os\n",
    "from tqdm.auto import tqdm\n",
    "from joblib import Parallel, delayed\n",
    "import numpy as np\n",
    "import torch\n",
    "from PIL import Image\n",
    "# from google.colab import drive\n",
    "import matplotlib.pyplot as plt"
   ]
  },
  {
   "cell_type": "code",
   "execution_count": 10,
   "metadata": {},
   "outputs": [],
   "source": [
    "def get_closest_idx(df_ids, row_id, coco_val, train):\n",
    "    coords = coco_val[row_id][3].split(',')\n",
    "    w, h = int(coords[2]), coords[3]\n",
    "    vals = train.iloc[df_ids]\n",
    "    min_diff = 1e5\n",
    "    best_id = -1\n",
    "    for i, val in vals.iterrows():\n",
    "        diff = abs(abs(val['right'] - val['left']) - w)\n",
    "        try:\n",
    "            if diff < min_diff:\n",
    "                min_diff = diff\n",
    "                best_id = i\n",
    "        except:\n",
    "            print(best_id, df_ids[i])\n",
    "\n",
    "    return best_id\n",
    "\n"
   ]
  },
  {
   "cell_type": "code",
   "execution_count": 8,
   "metadata": {},
   "outputs": [],
   "source": [
    "def get_iou(bb1, bb2):\n",
    "    # Taken from https://stackoverflow.com/a/42874377\n",
    "    \"\"\"\n",
    "    Calculate the Intersection over Union (IoU) of two bounding boxes.\n",
    "\n",
    "    Parameters\n",
    "    ----------\n",
    "    bb1 : dict\n",
    "        Keys: {'x1', 'x2', 'y1', 'y2'}\n",
    "        The (x1, y1) position is at the top left corner,\n",
    "        the (x2, y2) position is at the bottom right corner\n",
    "    bb2 : dict\n",
    "        Keys: {'x1', 'x2', 'y1', 'y2'}\n",
    "        The (x, y) position is at the top left corner,\n",
    "        the (x2, y2) position is at the bottom right corner\n",
    "\n",
    "    Returns\n",
    "    -------\n",
    "    float\n",
    "        in [0, 1]\n",
    "    \"\"\"\n",
    "    # assert bb1['x1'] < bb1['x2']\n",
    "    # assert bb1['y1'] < bb1['y2']\n",
    "    assert bb2['x1'] < bb2['x2']\n",
    "    assert bb2['y1'] < bb2['y2']\n",
    "\n",
    "    # determine the coordinates of the intersection rectangle\n",
    "    x_left = max(bb1['x1'], bb2['x1'])\n",
    "    y_top = max(bb1['y1'], bb2['y1'])\n",
    "    x_right = min(bb1['x2'], bb2['x2'])\n",
    "    y_bottom = min(bb1['y2'], bb2['y2'])\n",
    "\n",
    "    if x_right < x_left or y_bottom < y_top:\n",
    "        return 0.0\n",
    "\n",
    "    # The intersection of two axis-aligned bounding boxes is always an\n",
    "    # axis-aligned bounding box\n",
    "    intersection_area = (x_right - x_left) * (y_bottom - y_top)\n",
    "\n",
    "    # compute the area of both AABBs\n",
    "    bb1_area = (bb1['x2'] - bb1['x1']) * (bb1['y2'] - bb1['y1'])\n",
    "    bb2_area = (bb2['x2'] - bb2['x1']) * (bb2['y2'] - bb2['y1'])\n",
    "\n",
    "    # compute the intersection over union by taking the intersection\n",
    "    # area and dividing it by the sum of prediction + ground-truth\n",
    "    # areas - the interesection area\n",
    "    iou = intersection_area / float(bb1_area + bb2_area - intersection_area)\n",
    "    assert iou >= 0.0\n",
    "    assert iou <= 1.0\n",
    "    return iou"
   ]
  },
  {
   "cell_type": "markdown",
   "metadata": {},
   "source": [
    "## Train val predictions"
   ]
  },
  {
   "cell_type": "code",
   "execution_count": 2,
   "metadata": {},
   "outputs": [
    {
     "data": {
      "text/html": [
       "<div>\n",
       "<style scoped>\n",
       "    .dataframe tbody tr th:only-of-type {\n",
       "        vertical-align: middle;\n",
       "    }\n",
       "\n",
       "    .dataframe tbody tr th {\n",
       "        vertical-align: top;\n",
       "    }\n",
       "\n",
       "    .dataframe thead th {\n",
       "        text-align: right;\n",
       "    }\n",
       "</style>\n",
       "<table border=\"1\" class=\"dataframe\">\n",
       "  <thead>\n",
       "    <tr style=\"text-align: right;\">\n",
       "      <th></th>\n",
       "      <th>uniq_id</th>\n",
       "      <th>box</th>\n",
       "    </tr>\n",
       "  </thead>\n",
       "  <tbody>\n",
       "    <tr>\n",
       "      <th>0</th>\n",
       "      <td>88888880</td>\n",
       "      <td>[206.33665466308594, 212.4038848876953, 30.758...</td>\n",
       "    </tr>\n",
       "    <tr>\n",
       "      <th>1</th>\n",
       "      <td>88888890</td>\n",
       "      <td>[119.8824234008789, 77.5023422241211, 49.20937...</td>\n",
       "    </tr>\n",
       "    <tr>\n",
       "      <th>2</th>\n",
       "      <td>88888900</td>\n",
       "      <td>[468.42266845703125, 342.7523498535156, 23.068...</td>\n",
       "    </tr>\n",
       "    <tr>\n",
       "      <th>3</th>\n",
       "      <td>88888910</td>\n",
       "      <td>[286.2228698730469, 263.3675842285156, 23.8164...</td>\n",
       "    </tr>\n",
       "    <tr>\n",
       "      <th>4</th>\n",
       "      <td>88888920</td>\n",
       "      <td>[255.1974334716797, 154.2718963623047, 90.8329...</td>\n",
       "    </tr>\n",
       "  </tbody>\n",
       "</table>\n",
       "</div>"
      ],
      "text/plain": [
       "    uniq_id                                                box\n",
       "0  88888880  [206.33665466308594, 212.4038848876953, 30.758...\n",
       "1  88888890  [119.8824234008789, 77.5023422241211, 49.20937...\n",
       "2  88888900  [468.42266845703125, 342.7523498535156, 23.068...\n",
       "3  88888910  [286.2228698730469, 263.3675842285156, 23.8164...\n",
       "4  88888920  [255.1974334716797, 154.2718963623047, 90.8329..."
      ]
     },
     "execution_count": 2,
     "metadata": {},
     "output_type": "execute_result"
    }
   ],
   "source": [
    "res = pd.read_json('/media/hdd/anoskov/ofa_test/OFA/results/refcoco/refcoco_val_predict.json')\n",
    "res.head()"
   ]
  },
  {
   "cell_type": "code",
   "execution_count": 3,
   "metadata": {},
   "outputs": [
    {
     "data": {
      "text/plain": [
       "[206.33665466308594, 212.4038848876953, 30.75826072692871, 15.812764167785645]"
      ]
     },
     "execution_count": 3,
     "metadata": {},
     "output_type": "execute_result"
    }
   ],
   "source": [
    "res['box'][0]"
   ]
  },
  {
   "cell_type": "code",
   "execution_count": 4,
   "metadata": {},
   "outputs": [
    {
     "name": "stdout",
     "output_type": "stream",
     "text": [
      "                                               image  width  height  left  \\\n",
      "0  https://toloka-cdn.azureedge.net/wsdmcup2023/0...    640     427   129   \n",
      "1  https://toloka-cdn.azureedge.net/wsdmcup2023/0...    640     427   424   \n",
      "2  https://toloka-cdn.azureedge.net/wsdmcup2023/0...    640     428   242   \n",
      "3  https://toloka-cdn.azureedge.net/wsdmcup2023/0...    640     480    52   \n",
      "4  https://toloka-cdn.azureedge.net/wsdmcup2023/0...    565     640   316   \n",
      "\n",
      "   top  right  bottom                                  question  \n",
      "0  192    155     212               What does it use to breath?  \n",
      "1   28    427      32                  What can fly in the sky?  \n",
      "2  149    406     351                Where can i put my flowers  \n",
      "3  372    636     443  What equipment is used for snowboarding?  \n",
      "4  323    452     419                  Where can I put my feet?  \n",
      "(38990, 8)\n"
     ]
    }
   ],
   "source": [
    "train = pd.read_csv('/media/hdd/anoskov/ofa_test/train.csv')\n",
    "print(train.head())\n",
    "print(train.shape)"
   ]
  },
  {
   "cell_type": "code",
   "execution_count": 34,
   "metadata": {},
   "outputs": [
    {
     "data": {
      "text/html": [
       "<div>\n",
       "<style scoped>\n",
       "    .dataframe tbody tr th:only-of-type {\n",
       "        vertical-align: middle;\n",
       "    }\n",
       "\n",
       "    .dataframe tbody tr th {\n",
       "        vertical-align: top;\n",
       "    }\n",
       "\n",
       "    .dataframe thead th {\n",
       "        text-align: right;\n",
       "    }\n",
       "</style>\n",
       "<table border=\"1\" class=\"dataframe\">\n",
       "  <thead>\n",
       "    <tr style=\"text-align: right;\">\n",
       "      <th></th>\n",
       "      <th>image</th>\n",
       "      <th>width</th>\n",
       "      <th>height</th>\n",
       "      <th>left</th>\n",
       "      <th>top</th>\n",
       "      <th>right</th>\n",
       "      <th>bottom</th>\n",
       "      <th>question</th>\n",
       "    </tr>\n",
       "  </thead>\n",
       "  <tbody>\n",
       "    <tr>\n",
       "      <th>20271</th>\n",
       "      <td>https://toloka-cdn.azureedge.net/wsdmcup2023/0...</td>\n",
       "      <td>640</td>\n",
       "      <td>427</td>\n",
       "      <td>193</td>\n",
       "      <td>204</td>\n",
       "      <td>223</td>\n",
       "      <td>220</td>\n",
       "      <td>What we wear on our heads?</td>\n",
       "    </tr>\n",
       "    <tr>\n",
       "      <th>26804</th>\n",
       "      <td>https://toloka-cdn.azureedge.net/wsdmcup2023/0...</td>\n",
       "      <td>640</td>\n",
       "      <td>539</td>\n",
       "      <td>286</td>\n",
       "      <td>64</td>\n",
       "      <td>387</td>\n",
       "      <td>137</td>\n",
       "      <td>What we wear on our heads?</td>\n",
       "    </tr>\n",
       "  </tbody>\n",
       "</table>\n",
       "</div>"
      ],
      "text/plain": [
       "                                                   image  width  height  left  \\\n",
       "20271  https://toloka-cdn.azureedge.net/wsdmcup2023/0...    640     427   193   \n",
       "26804  https://toloka-cdn.azureedge.net/wsdmcup2023/0...    640     539   286   \n",
       "\n",
       "       top  right  bottom                    question  \n",
       "20271  204    223     220  What we wear on our heads?  \n",
       "26804   64    387     137  What we wear on our heads?  "
      ]
     },
     "execution_count": 34,
     "metadata": {},
     "output_type": "execute_result"
    }
   ],
   "source": []
  },
  {
   "cell_type": "code",
   "execution_count": 5,
   "metadata": {},
   "outputs": [
    {
     "name": "stdout",
     "output_type": "stream",
     "text": [
      "7798\n"
     ]
    }
   ],
   "source": [
    "coco_val = []\n",
    "with open('/media/hdd/anoskov/ofa_test/OFA/coco_val.tsv') as f:\n",
    "    while True:\n",
    "        line = f.readline()\n",
    "        if not line:\n",
    "            break\n",
    "        coco_val.append(line.split('\\t')[:4])\n",
    "print(len(coco_val))"
   ]
  },
  {
   "cell_type": "code",
   "execution_count": 6,
   "metadata": {},
   "outputs": [
    {
     "data": {
      "text/plain": [
       "['8888888_0', '8888888', 'What we wear on our heads?', '208.0,212.0,30,16']"
      ]
     },
     "execution_count": 6,
     "metadata": {},
     "output_type": "execute_result"
    }
   ],
   "source": [
    "coco_val[0]"
   ]
  },
  {
   "cell_type": "code",
   "execution_count": 7,
   "metadata": {},
   "outputs": [
    {
     "data": {
      "text/plain": [
       "image       https://toloka-cdn.azureedge.net/wsdmcup2023/0...\n",
       "width                                                     640\n",
       "height                                                    427\n",
       "left                                                      193\n",
       "top                                                       204\n",
       "right                                                     223\n",
       "bottom                                                    220\n",
       "question                           What we wear on our heads?\n",
       "Name: 20271, dtype: object"
      ]
     },
     "execution_count": 7,
     "metadata": {},
     "output_type": "execute_result"
    }
   ],
   "source": [
    "train[train['question'] == 'What we wear on our heads?'].iloc[0]"
   ]
  },
  {
   "cell_type": "code",
   "execution_count": 8,
   "metadata": {},
   "outputs": [
    {
     "data": {
      "text/html": [
       "<div>\n",
       "<style scoped>\n",
       "    .dataframe tbody tr th:only-of-type {\n",
       "        vertical-align: middle;\n",
       "    }\n",
       "\n",
       "    .dataframe tbody tr th {\n",
       "        vertical-align: top;\n",
       "    }\n",
       "\n",
       "    .dataframe thead th {\n",
       "        text-align: right;\n",
       "    }\n",
       "</style>\n",
       "<table border=\"1\" class=\"dataframe\">\n",
       "  <thead>\n",
       "    <tr style=\"text-align: right;\">\n",
       "      <th></th>\n",
       "      <th>image</th>\n",
       "      <th>width</th>\n",
       "      <th>height</th>\n",
       "      <th>left</th>\n",
       "      <th>top</th>\n",
       "      <th>right</th>\n",
       "      <th>bottom</th>\n",
       "      <th>question</th>\n",
       "    </tr>\n",
       "  </thead>\n",
       "  <tbody>\n",
       "    <tr>\n",
       "      <th>20271</th>\n",
       "      <td>https://toloka-cdn.azureedge.net/wsdmcup2023/0...</td>\n",
       "      <td>640</td>\n",
       "      <td>427</td>\n",
       "      <td>193</td>\n",
       "      <td>204</td>\n",
       "      <td>223</td>\n",
       "      <td>220</td>\n",
       "      <td>What we wear on our heads?</td>\n",
       "    </tr>\n",
       "    <tr>\n",
       "      <th>26804</th>\n",
       "      <td>https://toloka-cdn.azureedge.net/wsdmcup2023/0...</td>\n",
       "      <td>640</td>\n",
       "      <td>539</td>\n",
       "      <td>286</td>\n",
       "      <td>64</td>\n",
       "      <td>387</td>\n",
       "      <td>137</td>\n",
       "      <td>What we wear on our heads?</td>\n",
       "    </tr>\n",
       "  </tbody>\n",
       "</table>\n",
       "</div>"
      ],
      "text/plain": [
       "                                                   image  width  height  left  \\\n",
       "20271  https://toloka-cdn.azureedge.net/wsdmcup2023/0...    640     427   193   \n",
       "26804  https://toloka-cdn.azureedge.net/wsdmcup2023/0...    640     539   286   \n",
       "\n",
       "       top  right  bottom                    question  \n",
       "20271  204    223     220  What we wear on our heads?  \n",
       "26804   64    387     137  What we wear on our heads?  "
      ]
     },
     "execution_count": 8,
     "metadata": {},
     "output_type": "execute_result"
    }
   ],
   "source": [
    "aaa = train[train['question'] == 'What we wear on our heads?'].index\n",
    "train.iloc[aaa]"
   ]
  },
  {
   "cell_type": "code",
   "execution_count": 9,
   "metadata": {},
   "outputs": [
    {
     "data": {
      "text/plain": [
       "['208.0', '212.0', '30', '16']"
      ]
     },
     "execution_count": 9,
     "metadata": {},
     "output_type": "execute_result"
    }
   ],
   "source": [
    "coco_val[0][3].split(',')"
   ]
  },
  {
   "cell_type": "code",
   "execution_count": 22,
   "metadata": {},
   "outputs": [],
   "source": [
    "# used = [0 for i in range(len(coco_val))]\n",
    "\n",
    "id_pairs = [-1 for i in coco_val]\n",
    "\n",
    "for row in range(len(coco_val)):\n",
    "    ques = coco_val[row][2]\n",
    "    ids = train[train['question'] == ques].index\n",
    "    df_idx = get_closest_idx(ids, row)\n",
    "    id_pairs[row] = df_idx\n",
    "\n"
   ]
  },
  {
   "cell_type": "code",
   "execution_count": 36,
   "metadata": {},
   "outputs": [
    {
     "data": {
      "text/html": [
       "<div>\n",
       "<style scoped>\n",
       "    .dataframe tbody tr th:only-of-type {\n",
       "        vertical-align: middle;\n",
       "    }\n",
       "\n",
       "    .dataframe tbody tr th {\n",
       "        vertical-align: top;\n",
       "    }\n",
       "\n",
       "    .dataframe thead th {\n",
       "        text-align: right;\n",
       "    }\n",
       "</style>\n",
       "<table border=\"1\" class=\"dataframe\">\n",
       "  <thead>\n",
       "    <tr style=\"text-align: right;\">\n",
       "      <th></th>\n",
       "      <th>uniq_id</th>\n",
       "      <th>box</th>\n",
       "    </tr>\n",
       "  </thead>\n",
       "  <tbody>\n",
       "    <tr>\n",
       "      <th>0</th>\n",
       "      <td>88888880</td>\n",
       "      <td>[206.33665466308594, 212.4038848876953, 30.758...</td>\n",
       "    </tr>\n",
       "    <tr>\n",
       "      <th>1</th>\n",
       "      <td>88888890</td>\n",
       "      <td>[119.8824234008789, 77.5023422241211, 49.20937...</td>\n",
       "    </tr>\n",
       "    <tr>\n",
       "      <th>2</th>\n",
       "      <td>88888900</td>\n",
       "      <td>[468.42266845703125, 342.7523498535156, 23.068...</td>\n",
       "    </tr>\n",
       "    <tr>\n",
       "      <th>3</th>\n",
       "      <td>88888910</td>\n",
       "      <td>[286.2228698730469, 263.3675842285156, 23.8164...</td>\n",
       "    </tr>\n",
       "    <tr>\n",
       "      <th>4</th>\n",
       "      <td>88888920</td>\n",
       "      <td>[255.1974334716797, 154.2718963623047, 90.8329...</td>\n",
       "    </tr>\n",
       "  </tbody>\n",
       "</table>\n",
       "</div>"
      ],
      "text/plain": [
       "    uniq_id                                                box\n",
       "0  88888880  [206.33665466308594, 212.4038848876953, 30.758...\n",
       "1  88888890  [119.8824234008789, 77.5023422241211, 49.20937...\n",
       "2  88888900  [468.42266845703125, 342.7523498535156, 23.068...\n",
       "3  88888910  [286.2228698730469, 263.3675842285156, 23.8164...\n",
       "4  88888920  [255.1974334716797, 154.2718963623047, 90.8329..."
      ]
     },
     "execution_count": 36,
     "metadata": {},
     "output_type": "execute_result"
    }
   ],
   "source": [
    "predictions = pd.read_json('/media/hdd/anoskov/ofa_test/OFA/results/refcoco/refcoco_val_predict.json')\n",
    "predictions.head()"
   ]
  },
  {
   "cell_type": "code",
   "execution_count": 43,
   "metadata": {},
   "outputs": [],
   "source": [
    "# coco_val, train\n",
    "ious = [0 for i in id_pairs]\n",
    "for i in range(len(id_pairs)):\n",
    "    row = train.iloc[id_pairs[i]]\n",
    "    # print(coco_val[i])\n",
    "    # break\n",
    "    bb1 = {'x1': row['left'], 'x2': row['right'], 'y1': row['top'], 'y2': row['bottom']}\n",
    "    pred_row = predictions.iloc[i]['box']\n",
    "    left = pred_row[0] - pred_row[2] / 2.\n",
    "    right = pred_row[0] + pred_row[2] / 2.\n",
    "    top = pred_row[1] - pred_row[3] / 2.\n",
    "    bot = pred_row[1] + pred_row[3] / 2.\n",
    "\n",
    "    # print(pred_row)\n",
    "    # break\n",
    "    bb2 = {'x1': left, 'x2': right, 'y1': top, 'y2': bot}\n",
    "    ious[i] = get_iou(bb1, bb2)"
   ]
  },
  {
   "cell_type": "code",
   "execution_count": 44,
   "metadata": {},
   "outputs": [
    {
     "data": {
      "text/plain": [
       "0.6041723592184729"
      ]
     },
     "execution_count": 44,
     "metadata": {},
     "output_type": "execute_result"
    }
   ],
   "source": [
    "sum(ious) / len(ious)"
   ]
  },
  {
   "cell_type": "code",
   "execution_count": 19,
   "metadata": {},
   "outputs": [
    {
     "name": "stdout",
     "output_type": "stream",
     "text": [
      "20271\n",
      "26804\n"
     ]
    }
   ],
   "source": [
    "for idx, row in train.iterrows():\n",
    "    if row['question'] == 'What we wear on our heads?':\n",
    "        print(idx)"
   ]
  },
  {
   "cell_type": "code",
   "execution_count": 25,
   "metadata": {},
   "outputs": [
    {
     "data": {
      "text/html": [
       "<div>\n",
       "<style scoped>\n",
       "    .dataframe tbody tr th:only-of-type {\n",
       "        vertical-align: middle;\n",
       "    }\n",
       "\n",
       "    .dataframe tbody tr th {\n",
       "        vertical-align: top;\n",
       "    }\n",
       "\n",
       "    .dataframe thead th {\n",
       "        text-align: right;\n",
       "    }\n",
       "</style>\n",
       "<table border=\"1\" class=\"dataframe\">\n",
       "  <thead>\n",
       "    <tr style=\"text-align: right;\">\n",
       "      <th></th>\n",
       "      <th>image</th>\n",
       "      <th>width</th>\n",
       "      <th>height</th>\n",
       "      <th>left</th>\n",
       "      <th>top</th>\n",
       "      <th>right</th>\n",
       "      <th>bottom</th>\n",
       "      <th>question</th>\n",
       "    </tr>\n",
       "  </thead>\n",
       "  <tbody>\n",
       "    <tr>\n",
       "      <th>20271</th>\n",
       "      <td>https://toloka-cdn.azureedge.net/wsdmcup2023/0...</td>\n",
       "      <td>640</td>\n",
       "      <td>427</td>\n",
       "      <td>193</td>\n",
       "      <td>204</td>\n",
       "      <td>223</td>\n",
       "      <td>220</td>\n",
       "      <td>What we wear on our heads?</td>\n",
       "    </tr>\n",
       "    <tr>\n",
       "      <th>26804</th>\n",
       "      <td>https://toloka-cdn.azureedge.net/wsdmcup2023/0...</td>\n",
       "      <td>640</td>\n",
       "      <td>539</td>\n",
       "      <td>286</td>\n",
       "      <td>64</td>\n",
       "      <td>387</td>\n",
       "      <td>137</td>\n",
       "      <td>What we wear on our heads?</td>\n",
       "    </tr>\n",
       "  </tbody>\n",
       "</table>\n",
       "</div>"
      ],
      "text/plain": [
       "                                                   image  width  height  left  \\\n",
       "20271  https://toloka-cdn.azureedge.net/wsdmcup2023/0...    640     427   193   \n",
       "26804  https://toloka-cdn.azureedge.net/wsdmcup2023/0...    640     539   286   \n",
       "\n",
       "       top  right  bottom                    question  \n",
       "20271  204    223     220  What we wear on our heads?  \n",
       "26804   64    387     137  What we wear on our heads?  "
      ]
     },
     "execution_count": 25,
     "metadata": {},
     "output_type": "execute_result"
    }
   ],
   "source": [
    "train.iloc[[20271, 26804]]"
   ]
  },
  {
   "cell_type": "code",
   "execution_count": null,
   "metadata": {},
   "outputs": [],
   "source": []
  },
  {
   "cell_type": "markdown",
   "metadata": {},
   "source": []
  },
  {
   "cell_type": "markdown",
   "metadata": {},
   "source": [
    "## Test predictions"
   ]
  },
  {
   "cell_type": "code",
   "execution_count": null,
   "metadata": {},
   "outputs": [],
   "source": [
    "%cd OFA/"
   ]
  },
  {
   "cell_type": "code",
   "execution_count": null,
   "metadata": {},
   "outputs": [],
   "source": [
    "import pandas as pd\n",
    "import cv2\n",
    "import wget\n",
    "import shutil\n",
    "import os\n",
    "from tqdm.auto import tqdm\n",
    "from joblib import Parallel, delayed\n",
    "import numpy as np\n",
    "import torch\n",
    "from PIL import Image\n",
    "# from google.colab import drive\n",
    "import matplotlib.pyplot as plt\n",
    "from PIL import Image\n",
    "from torchvision import transforms\n",
    "from transformers import OFATokenizer, OFAModel\n",
    "from transformers.models.ofa.generate import sequence_generator\n",
    "# from google.colab.patches import cv2_imshow\n",
    "\n",
    "from tqdm import tqdm\n",
    "from fairseq import utils, tasks\n",
    "from fairseq import checkpoint_utils\n",
    "from utils.eval_utils import eval_step\n",
    "from tasks.mm_tasks.refcoco import RefcocoTask\n",
    "from models.ofa import OFAModel\n",
    "import base64\n",
    "from sklearn.model_selection import train_test_split\n",
    "\n",
    "# Register refcoco task\n",
    "tasks.register_task('refcoco', RefcocoTask)\n",
    "\n",
    "# turn on cuda if GPU is available\n",
    "use_cuda = torch.cuda.is_available()\n",
    "# use fp16 only when GPU is available\n",
    "use_fp16 = False\n",
    "\n",
    "test_public = pd.read_csv('/test_public.csv')\n",
    "\n",
    "print(test_public.head())\n",
    "print(test_public.shape)\n",
    "\n",
    "# if 'imgs' not in os.listdir():\n",
    "#   os.mkdir('imgs')\n",
    "\n",
    "# 8909 15809 17110 18019 26028 36668\n",
    "\n",
    "# not_written_imgs = []\n",
    "\n",
    "# with open('NOT_WRITTEN.txt') as f:\n",
    "#     not_written_imgs = f.readlines()\n",
    "\n",
    "# url_path = 'https://toloka-cdn.azureedge.net/wsdmcup2023/'\n",
    "\n",
    "# img_paths = Parallel(\n",
    "#     n_jobs=100)(delayed(wget.download)(url_path + img_url, out='imgs') for img_url in tqdm(not_written_imgs)\n",
    "# )\n",
    "\n",
    "# train, val = train_test_split(test_public, test_size=0.2)\n",
    "\n",
    "# print(f\"Splitting into {len(train)} train and {len(val)} val instances\")\n",
    "\n"
   ]
  },
  {
   "cell_type": "code",
   "execution_count": null,
   "metadata": {},
   "outputs": [],
   "source": [
    "img_paths = Parallel(\n",
    "    n_jobs=100)(delayed(wget.download)(img_url, out='imgs_test_public/') for img_url in tqdm(test_public['image'])\n",
    ")"
   ]
  },
  {
   "cell_type": "code",
   "execution_count": 3,
   "metadata": {},
   "outputs": [
    {
     "data": {
      "text/plain": [
       "1705"
      ]
     },
     "execution_count": 3,
     "metadata": {},
     "output_type": "execute_result"
    }
   ],
   "source": [
    "len(os.listdir('imgs_test_public/'))"
   ]
  },
  {
   "cell_type": "code",
   "execution_count": null,
   "metadata": {},
   "outputs": [],
   "source": [
    "# not_written_val = []\n",
    "# not_written_train = []\n",
    "\n",
    "unique_cnt = 7777777\n",
    "img_id = 7777777   # find max, probably\n",
    "\n",
    "f = open(\"coco_test_public.tsv\", \"a\")\n",
    "\n",
    "for id, row in tqdm(test_public.iterrows()):\n",
    "    question = row['question']\n",
    "    width = abs(row['left'] - row['right'])\n",
    "    height = abs(row['bottom'] - row['top'])\n",
    "    x_cent = row['left'] + width / 2.\n",
    "    y_cent = row['top'] + height / 2.\n",
    "\n",
    "    img_path = 'OFA/imgs_test_public/' + row['image'][-16:]\n",
    "    try:\n",
    "        with open(img_path, \"rb\") as img_file:\n",
    "            base_64_str = base64.b64encode(img_file.read())\n",
    "    except:\n",
    "        not_written_train.append(img_path)\n",
    "\n",
    "    # print(str(base_64_str)[2:-1])\n",
    "    new_line = f\"{unique_cnt}_0\t{img_id}\t{question}\t{x_cent},{y_cent},{width},{height}\t{str(base_64_str)[2:-1]}\\n\"\n",
    "    f.write(new_line)\n",
    "    unique_cnt += 1\n",
    "    img_id += 1\n",
    "    # break\n"
   ]
  },
  {
   "cell_type": "code",
   "execution_count": 5,
   "metadata": {},
   "outputs": [
    {
     "name": "stdout",
     "output_type": "stream",
     "text": [
      "1705\n"
     ]
    }
   ],
   "source": [
    "coco_test_public = []\n",
    "with open('OFA/coco_test_public.tsv') as f:\n",
    "    while True:\n",
    "        line = f.readline()\n",
    "        if not line:\n",
    "            break\n",
    "        coco_test_public.append(line.split('\\t')[:4])\n",
    "print(len(coco_test_public))"
   ]
  },
  {
   "cell_type": "code",
   "execution_count": 11,
   "metadata": {},
   "outputs": [],
   "source": [
    "# used = [0 for i in range(len(coco_val))]\n",
    "\n",
    "id_pairs = [-1 for i in coco_test_public]\n",
    "\n",
    "for row in range(len(coco_test_public)):\n",
    "    ques = coco_test_public[row][2]\n",
    "    ids = test_public[test_public['question'] == ques].index\n",
    "    df_idx = get_closest_idx(ids, row, coco_test_public, test_public)\n",
    "    id_pairs[row] = df_idx\n",
    "\n"
   ]
  },
  {
   "cell_type": "code",
   "execution_count": 13,
   "metadata": {},
   "outputs": [
    {
     "data": {
      "text/plain": [
       "(1705, 3)"
      ]
     },
     "execution_count": 13,
     "metadata": {},
     "output_type": "execute_result"
    }
   ],
   "source": [
    "len(id_pairs), id_pairs[3]"
   ]
  },
  {
   "cell_type": "code",
   "execution_count": 17,
   "metadata": {},
   "outputs": [
    {
     "data": {
      "text/html": [
       "<div>\n",
       "<style scoped>\n",
       "    .dataframe tbody tr th:only-of-type {\n",
       "        vertical-align: middle;\n",
       "    }\n",
       "\n",
       "    .dataframe tbody tr th {\n",
       "        vertical-align: top;\n",
       "    }\n",
       "\n",
       "    .dataframe thead th {\n",
       "        text-align: right;\n",
       "    }\n",
       "</style>\n",
       "<table border=\"1\" class=\"dataframe\">\n",
       "  <thead>\n",
       "    <tr style=\"text-align: right;\">\n",
       "      <th></th>\n",
       "      <th>uniq_id</th>\n",
       "      <th>box</th>\n",
       "    </tr>\n",
       "  </thead>\n",
       "  <tbody>\n",
       "    <tr>\n",
       "      <th>0</th>\n",
       "      <td>77777770</td>\n",
       "      <td>[443.7644958496094, 222.2383270263672, 97.0578...</td>\n",
       "    </tr>\n",
       "    <tr>\n",
       "      <th>1</th>\n",
       "      <td>77777780</td>\n",
       "      <td>[398.89617919921875, 465.8594665527344, 93.235...</td>\n",
       "    </tr>\n",
       "    <tr>\n",
       "      <th>2</th>\n",
       "      <td>77777790</td>\n",
       "      <td>[415.24749755859375, 155.4166717529297, 177.10...</td>\n",
       "    </tr>\n",
       "    <tr>\n",
       "      <th>3</th>\n",
       "      <td>77777800</td>\n",
       "      <td>[331.2920837402344, 184.60108947753906, 78.177...</td>\n",
       "    </tr>\n",
       "    <tr>\n",
       "      <th>4</th>\n",
       "      <td>77777810</td>\n",
       "      <td>[44.214996337890625, 75.10822296142578, 83.944...</td>\n",
       "    </tr>\n",
       "  </tbody>\n",
       "</table>\n",
       "</div>"
      ],
      "text/plain": [
       "    uniq_id                                                box\n",
       "0  77777770  [443.7644958496094, 222.2383270263672, 97.0578...\n",
       "1  77777780  [398.89617919921875, 465.8594665527344, 93.235...\n",
       "2  77777790  [415.24749755859375, 155.4166717529297, 177.10...\n",
       "3  77777800  [331.2920837402344, 184.60108947753906, 78.177...\n",
       "4  77777810  [44.214996337890625, 75.10822296142578, 83.944..."
      ]
     },
     "execution_count": 17,
     "metadata": {},
     "output_type": "execute_result"
    }
   ],
   "source": [
    "predictions = pd.read_json('OFA/results/refcoco/test/refcoco_test_public_predict.json')\n",
    "predictions.head()"
   ]
  },
  {
   "cell_type": "code",
   "execution_count": 19,
   "metadata": {},
   "outputs": [],
   "source": [
    "# coco_val, train\n",
    "ious = [0 for i in id_pairs]\n",
    "for i in range(len(id_pairs)):\n",
    "    row = test_public.iloc[id_pairs[i]]\n",
    "    # print(coco_val[i])\n",
    "    # break\n",
    "    bb1 = {'x1': row['left'], 'x2': row['right'], 'y1': row['top'], 'y2': row['bottom']}\n",
    "    pred_row = predictions.iloc[i]['box']\n",
    "    left = pred_row[0] - pred_row[2] / 2.\n",
    "    right = pred_row[0] + pred_row[2] / 2.\n",
    "    top = pred_row[1] - pred_row[3] / 2.\n",
    "    bot = pred_row[1] + pred_row[3] / 2.\n",
    "\n",
    "    # print(pred_row)\n",
    "    # break\n",
    "    bb2 = {'x1': left, 'x2': right, 'y1': top, 'y2': bot}\n",
    "    ious[i] = get_iou(bb1, bb2)"
   ]
  },
  {
   "cell_type": "code",
   "execution_count": 20,
   "metadata": {},
   "outputs": [
    {
     "data": {
      "text/plain": [
       "0.6016819608221556"
      ]
     },
     "execution_count": 20,
     "metadata": {},
     "output_type": "execute_result"
    }
   ],
   "source": [
    "sum(ious) / len(ious)"
   ]
  },
  {
   "cell_type": "code",
   "execution_count": 22,
   "metadata": {},
   "outputs": [
    {
     "name": "stdout",
     "output_type": "stream",
     "text": [
      "0.6016819608221565 0.7405969926409991\n"
     ]
    }
   ],
   "source": [
    "ious = np.array(ious)\n",
    "print(np.mean(ious), np.median(ious) )"
   ]
  },
  {
   "cell_type": "code",
   "execution_count": 44,
   "metadata": {},
   "outputs": [
    {
     "name": "stdout",
     "output_type": "stream",
     "text": [
      "Pecrentle 10-th : 0.0\n",
      "Pecrentle 20-th : 0.2761937205854278\n",
      "Pecrentle 30-th : 0.5757064456716211\n",
      "Pecrentle 40-th : 0.6827042997237863\n",
      "Pecrentle 50-th : 0.7405969926409991\n",
      "Pecrentle 60-th : 0.7808215946088883\n",
      "Pecrentle 70-th : 0.8170010037773711\n",
      "Pecrentle 80-th : 0.8493271994736944\n",
      "Pecrentle 90-th : 0.8783222704074543\n",
      "Pecrentle 100-th : 0.9672587214127595\n"
     ]
    }
   ],
   "source": [
    "for i in range(10, 101, 10):\n",
    "    print(f'Pecrentle {i}-th : {np.percentile(ious, i)}')"
   ]
  },
  {
   "cell_type": "markdown",
   "metadata": {},
   "source": [
    "## Test private"
   ]
  },
  {
   "cell_type": "code",
   "execution_count": 45,
   "metadata": {},
   "outputs": [
    {
     "name": "stdout",
     "output_type": "stream",
     "text": [
      "                                               image  width  height  left  \\\n",
      "0  https://toloka-cdn.azureedge.net/wsdmcup2023/0...    640     536   516   \n",
      "1  https://toloka-cdn.azureedge.net/wsdmcup2023/0...    640     427     3   \n",
      "2  https://toloka-cdn.azureedge.net/wsdmcup2023/0...    427     640   253   \n",
      "3  https://toloka-cdn.azureedge.net/wsdmcup2023/0...    500     375   130   \n",
      "4  https://toloka-cdn.azureedge.net/wsdmcup2023/0...    640     640   243   \n",
      "\n",
      "   top  right  bottom                                           question  \n",
      "0  270    552     309  what do military men use to identify the type ...  \n",
      "1  214     13     229                       Where do we throw the trash?  \n",
      "2  446    334     484                     What do you wear on your feet?  \n",
      "3  268    366     317                    What do we use to slide on snow  \n",
      "4  244    412     639             What receives our payment for parking?  \n",
      "(4504, 8)\n"
     ]
    }
   ],
   "source": [
    "test_private = pd.read_csv('/test_private.csv')\n",
    "print(test_private.head())\n",
    "print(test_private.shape)"
   ]
  },
  {
   "cell_type": "code",
   "execution_count": 46,
   "metadata": {},
   "outputs": [
    {
     "name": "stderr",
     "output_type": "stream",
     "text": [
      "100%|██████████| 4504/4504 [01:28<00:00, 50.90it/s] \n"
     ]
    }
   ],
   "source": [
    "img_paths = Parallel(\n",
    "    n_jobs=100)(delayed(wget.download)(img_url, out='imgs_test_private/') for img_url in tqdm(test_private['image'])\n",
    ")"
   ]
  },
  {
   "cell_type": "code",
   "execution_count": 47,
   "metadata": {},
   "outputs": [
    {
     "data": {
      "text/plain": [
       "4504"
      ]
     },
     "execution_count": 47,
     "metadata": {},
     "output_type": "execute_result"
    }
   ],
   "source": [
    "len(os.listdir('imgs_test_private/'))"
   ]
  },
  {
   "cell_type": "code",
   "execution_count": 48,
   "metadata": {},
   "outputs": [
    {
     "name": "stderr",
     "output_type": "stream",
     "text": [
      "4504it [00:05, 792.39it/s]\n"
     ]
    }
   ],
   "source": [
    "# not_written_val = []\n",
    "# not_written_train = []\n",
    "\n",
    "unique_cnt = 5555555\n",
    "img_id = 5555555   # find max, probably\n",
    "\n",
    "f = open(\"coco_test_private.tsv\", \"a\")\n",
    "\n",
    "for id, row in tqdm(test_private.iterrows()):\n",
    "    question = row['question']\n",
    "    width = abs(row['left'] - row['right'])\n",
    "    height = abs(row['bottom'] - row['top'])\n",
    "    x_cent = row['left'] + width / 2.\n",
    "    y_cent = row['top'] + height / 2.\n",
    "\n",
    "    img_path = 'OFA/imgs_test_private/' + row['image'][-16:]\n",
    "    try:\n",
    "        with open(img_path, \"rb\") as img_file:\n",
    "            base_64_str = base64.b64encode(img_file.read())\n",
    "    except:\n",
    "        not_written_train.append(img_path)\n",
    "\n",
    "    # print(str(base_64_str)[2:-1])\n",
    "    new_line = f\"{unique_cnt}_0\t{img_id}\t{question}\t{x_cent},{y_cent},{width},{height}\t{str(base_64_str)[2:-1]}\\n\"\n",
    "    f.write(new_line)\n",
    "    unique_cnt += 1\n",
    "    img_id += 1\n",
    "    # break\n"
   ]
  },
  {
   "cell_type": "code",
   "execution_count": 49,
   "metadata": {},
   "outputs": [
    {
     "name": "stdout",
     "output_type": "stream",
     "text": [
      "4504\n"
     ]
    }
   ],
   "source": [
    "coco_test_private = []\n",
    "with open('OFA/coco_test_private.tsv') as f:\n",
    "    while True:\n",
    "        line = f.readline()\n",
    "        if not line:\n",
    "            break\n",
    "        coco_test_private.append(line.split('\\t')[:4])\n",
    "print(len(coco_test_private))"
   ]
  },
  {
   "cell_type": "code",
   "execution_count": 50,
   "metadata": {},
   "outputs": [],
   "source": [
    "# used = [0 for i in range(len(coco_val))]\n",
    "\n",
    "id_pairs = [-1 for i in coco_test_private]\n",
    "\n",
    "for row in range(len(coco_test_private)):\n",
    "    ques = coco_test_private[row][2]\n",
    "    ids = test_private[test_private['question'] == ques].index\n",
    "    df_idx = get_closest_idx(ids, row, coco_test_private, test_private)\n",
    "    id_pairs[row] = df_idx"
   ]
  },
  {
   "cell_type": "code",
   "execution_count": 51,
   "metadata": {},
   "outputs": [
    {
     "data": {
      "text/plain": [
       "(4504, 3)"
      ]
     },
     "execution_count": 51,
     "metadata": {},
     "output_type": "execute_result"
    }
   ],
   "source": [
    "len(id_pairs), id_pairs[3]"
   ]
  },
  {
   "cell_type": "code",
   "execution_count": 54,
   "metadata": {},
   "outputs": [
    {
     "data": {
      "text/html": [
       "<div>\n",
       "<style scoped>\n",
       "    .dataframe tbody tr th:only-of-type {\n",
       "        vertical-align: middle;\n",
       "    }\n",
       "\n",
       "    .dataframe tbody tr th {\n",
       "        vertical-align: top;\n",
       "    }\n",
       "\n",
       "    .dataframe thead th {\n",
       "        text-align: right;\n",
       "    }\n",
       "</style>\n",
       "<table border=\"1\" class=\"dataframe\">\n",
       "  <thead>\n",
       "    <tr style=\"text-align: right;\">\n",
       "      <th></th>\n",
       "      <th>uniq_id</th>\n",
       "      <th>box</th>\n",
       "    </tr>\n",
       "  </thead>\n",
       "  <tbody>\n",
       "    <tr>\n",
       "      <th>0</th>\n",
       "      <td>55555550</td>\n",
       "      <td>[536.34716796875, 292.45703125, 33.96224594116...</td>\n",
       "    </tr>\n",
       "    <tr>\n",
       "      <th>1</th>\n",
       "      <td>55555560</td>\n",
       "      <td>[12.17514419555664, 222.23342895507812, 14.097...</td>\n",
       "    </tr>\n",
       "    <tr>\n",
       "      <th>2</th>\n",
       "      <td>55555570</td>\n",
       "      <td>[286.3392333984375, 465.8594665527344, 98.7229...</td>\n",
       "    </tr>\n",
       "    <tr>\n",
       "      <th>3</th>\n",
       "      <td>55555580</td>\n",
       "      <td>[239.1425323486328, 290.18621826171875, 234.13...</td>\n",
       "    </tr>\n",
       "    <tr>\n",
       "      <th>4</th>\n",
       "      <td>55555590</td>\n",
       "      <td>[333.85528564453125, 413.3141174316406, 169.17...</td>\n",
       "    </tr>\n",
       "  </tbody>\n",
       "</table>\n",
       "</div>"
      ],
      "text/plain": [
       "    uniq_id                                                box\n",
       "0  55555550  [536.34716796875, 292.45703125, 33.96224594116...\n",
       "1  55555560  [12.17514419555664, 222.23342895507812, 14.097...\n",
       "2  55555570  [286.3392333984375, 465.8594665527344, 98.7229...\n",
       "3  55555580  [239.1425323486328, 290.18621826171875, 234.13...\n",
       "4  55555590  [333.85528564453125, 413.3141174316406, 169.17..."
      ]
     },
     "execution_count": 54,
     "metadata": {},
     "output_type": "execute_result"
    }
   ],
   "source": [
    "predictions = pd.read_json('OFA/results/refcoco/refcoco_test_private_predict.json')\n",
    "predictions.head()"
   ]
  },
  {
   "cell_type": "code",
   "execution_count": 55,
   "metadata": {},
   "outputs": [],
   "source": [
    "# coco_val, train\n",
    "ious = [0 for i in id_pairs]\n",
    "for i in range(len(id_pairs)):\n",
    "    row = test_private.iloc[id_pairs[i]]\n",
    "    # print(coco_val[i])\n",
    "    # break\n",
    "    bb1 = {'x1': row['left'], 'x2': row['right'], 'y1': row['top'], 'y2': row['bottom']}\n",
    "    pred_row = predictions.iloc[i]['box']\n",
    "    left = pred_row[0] - pred_row[2] / 2.\n",
    "    right = pred_row[0] + pred_row[2] / 2.\n",
    "    top = pred_row[1] - pred_row[3] / 2.\n",
    "    bot = pred_row[1] + pred_row[3] / 2.\n",
    "\n",
    "    # print(pred_row)\n",
    "    # break\n",
    "    bb2 = {'x1': left, 'x2': right, 'y1': top, 'y2': bot}\n",
    "    ious[i] = get_iou(bb1, bb2)"
   ]
  },
  {
   "cell_type": "code",
   "execution_count": 56,
   "metadata": {},
   "outputs": [
    {
     "name": "stdout",
     "output_type": "stream",
     "text": [
      "Pecrentle 10-th : 0.0\n",
      "Pecrentle 20-th : 0.22019953579847842\n",
      "Pecrentle 30-th : 0.5745931229061652\n",
      "Pecrentle 40-th : 0.6832530825666869\n",
      "Pecrentle 50-th : 0.7439474180365657\n",
      "Pecrentle 60-th : 0.7870334259761114\n",
      "Pecrentle 70-th : 0.8218424366425668\n",
      "Pecrentle 80-th : 0.8536606410930789\n",
      "Pecrentle 90-th : 0.888252918463124\n",
      "Pecrentle 100-th : 0.9755206480133078\n"
     ]
    }
   ],
   "source": [
    "for i in range(10, 101, 10):\n",
    "    print(f'Pecrentle {i}-th : {np.percentile(ious, i)}')"
   ]
  },
  {
   "cell_type": "code",
   "execution_count": 57,
   "metadata": {},
   "outputs": [
    {
     "data": {
      "text/plain": [
       "0.6016933325870206"
      ]
     },
     "execution_count": 57,
     "metadata": {},
     "output_type": "execute_result"
    }
   ],
   "source": [
    "np.mean(ious)"
   ]
  },
  {
   "cell_type": "markdown",
   "metadata": {},
   "source": [
    "### with newer checkpoint"
   ]
  },
  {
   "cell_type": "code",
   "execution_count": 58,
   "metadata": {},
   "outputs": [
    {
     "data": {
      "text/html": [
       "<div>\n",
       "<style scoped>\n",
       "    .dataframe tbody tr th:only-of-type {\n",
       "        vertical-align: middle;\n",
       "    }\n",
       "\n",
       "    .dataframe tbody tr th {\n",
       "        vertical-align: top;\n",
       "    }\n",
       "\n",
       "    .dataframe thead th {\n",
       "        text-align: right;\n",
       "    }\n",
       "</style>\n",
       "<table border=\"1\" class=\"dataframe\">\n",
       "  <thead>\n",
       "    <tr style=\"text-align: right;\">\n",
       "      <th></th>\n",
       "      <th>uniq_id</th>\n",
       "      <th>box</th>\n",
       "    </tr>\n",
       "  </thead>\n",
       "  <tbody>\n",
       "    <tr>\n",
       "      <th>0</th>\n",
       "      <td>55555550</td>\n",
       "      <td>[536.34716796875, 292.45703125, 39.72941970825...</td>\n",
       "    </tr>\n",
       "    <tr>\n",
       "      <th>1</th>\n",
       "      <td>55555560</td>\n",
       "      <td>[10.893549919128418, 222.23342895507812, 14.09...</td>\n",
       "    </tr>\n",
       "    <tr>\n",
       "      <th>2</th>\n",
       "      <td>55555570</td>\n",
       "      <td>[285.05712890625, 463.2962951660156, 98.722930...</td>\n",
       "    </tr>\n",
       "    <tr>\n",
       "      <th>3</th>\n",
       "      <td>55555580</td>\n",
       "      <td>[237.64163208007812, 290.18621826171875, 234.1...</td>\n",
       "    </tr>\n",
       "    <tr>\n",
       "      <th>4</th>\n",
       "      <td>55555590</td>\n",
       "      <td>[331.9328918457031, 413.3141174316406, 169.170...</td>\n",
       "    </tr>\n",
       "  </tbody>\n",
       "</table>\n",
       "</div>"
      ],
      "text/plain": [
       "    uniq_id                                                box\n",
       "0  55555550  [536.34716796875, 292.45703125, 39.72941970825...\n",
       "1  55555560  [10.893549919128418, 222.23342895507812, 14.09...\n",
       "2  55555570  [285.05712890625, 463.2962951660156, 98.722930...\n",
       "3  55555580  [237.64163208007812, 290.18621826171875, 234.1...\n",
       "4  55555590  [331.9328918457031, 413.3141174316406, 169.170..."
      ]
     },
     "execution_count": 58,
     "metadata": {},
     "output_type": "execute_result"
    }
   ],
   "source": [
    "predictions = pd.read_json('/OFA/results/refcoco/refcoco_test_private_new_predict.json')\n",
    "predictions.head()"
   ]
  },
  {
   "cell_type": "code",
   "execution_count": 59,
   "metadata": {},
   "outputs": [],
   "source": [
    "# coco_val, train\n",
    "ious = [0 for i in id_pairs]\n",
    "for i in range(len(id_pairs)):\n",
    "    row = test_private.iloc[id_pairs[i]]\n",
    "    # print(coco_val[i])\n",
    "    # break\n",
    "    bb1 = {'x1': row['left'], 'x2': row['right'], 'y1': row['top'], 'y2': row['bottom']}\n",
    "    pred_row = predictions.iloc[i]['box']\n",
    "    left = pred_row[0] - pred_row[2] / 2.\n",
    "    right = pred_row[0] + pred_row[2] / 2.\n",
    "    top = pred_row[1] - pred_row[3] / 2.\n",
    "    bot = pred_row[1] + pred_row[3] / 2.\n",
    "\n",
    "    # print(pred_row)\n",
    "    # break\n",
    "    bb2 = {'x1': left, 'x2': right, 'y1': top, 'y2': bot}\n",
    "    ious[i] = get_iou(bb1, bb2)"
   ]
  },
  {
   "cell_type": "code",
   "execution_count": 60,
   "metadata": {},
   "outputs": [
    {
     "name": "stdout",
     "output_type": "stream",
     "text": [
      "Pecrentle 10-th : 0.0\n",
      "Pecrentle 20-th : 0.2001232655090211\n",
      "Pecrentle 30-th : 0.5788839556457075\n",
      "Pecrentle 40-th : 0.6910024793591609\n",
      "Pecrentle 50-th : 0.7515120681889844\n",
      "Pecrentle 60-th : 0.7944108995673553\n",
      "Pecrentle 70-th : 0.8289629713853489\n",
      "Pecrentle 80-th : 0.8605767205820131\n",
      "Pecrentle 90-th : 0.8927994753248969\n",
      "Pecrentle 100-th : 0.9826799036391453\n"
     ]
    }
   ],
   "source": [
    "for i in range(10, 101, 10):\n",
    "    print(f'Pecrentle {i}-th : {np.percentile(ious, i)}')"
   ]
  },
  {
   "cell_type": "code",
   "execution_count": 61,
   "metadata": {},
   "outputs": [
    {
     "data": {
      "text/plain": [
       "0.6059904454852495"
      ]
     },
     "execution_count": 61,
     "metadata": {},
     "output_type": "execute_result"
    }
   ],
   "source": [
    "np.mean(ious)"
   ]
  },
  {
   "cell_type": "markdown",
   "metadata": {},
   "source": [
    "Sized of bounding boxes in ViT\n",
    "\n",
    "Augment\n",
    "\n",
    "More train (???)\n"
   ]
  },
  {
   "cell_type": "markdown",
   "metadata": {},
   "source": [
    "### with older checkpoint"
   ]
  },
  {
   "cell_type": "code",
   "execution_count": 62,
   "metadata": {},
   "outputs": [
    {
     "data": {
      "text/html": [
       "<div>\n",
       "<style scoped>\n",
       "    .dataframe tbody tr th:only-of-type {\n",
       "        vertical-align: middle;\n",
       "    }\n",
       "\n",
       "    .dataframe tbody tr th {\n",
       "        vertical-align: top;\n",
       "    }\n",
       "\n",
       "    .dataframe thead th {\n",
       "        text-align: right;\n",
       "    }\n",
       "</style>\n",
       "<table border=\"1\" class=\"dataframe\">\n",
       "  <thead>\n",
       "    <tr style=\"text-align: right;\">\n",
       "      <th></th>\n",
       "      <th>uniq_id</th>\n",
       "      <th>box</th>\n",
       "    </tr>\n",
       "  </thead>\n",
       "  <tbody>\n",
       "    <tr>\n",
       "      <th>0</th>\n",
       "      <td>55555550</td>\n",
       "      <td>[536.34716796875, 292.45703125, 33.32144927978...</td>\n",
       "    </tr>\n",
       "    <tr>\n",
       "      <th>1</th>\n",
       "      <td>55555560</td>\n",
       "      <td>[96.11956024169922, 223.9429168701172, 14.0975...</td>\n",
       "    </tr>\n",
       "    <tr>\n",
       "      <th>2</th>\n",
       "      <td>55555570</td>\n",
       "      <td>[283.3476257324219, 463.2962951660156, 109.407...</td>\n",
       "    </tr>\n",
       "    <tr>\n",
       "      <th>3</th>\n",
       "      <td>55555580</td>\n",
       "      <td>[241.1437225341797, 286.4321594238281, 315.688...</td>\n",
       "    </tr>\n",
       "    <tr>\n",
       "      <th>4</th>\n",
       "      <td>55555590</td>\n",
       "      <td>[329.36968994140625, 413.3141174316406, 135.84...</td>\n",
       "    </tr>\n",
       "  </tbody>\n",
       "</table>\n",
       "</div>"
      ],
      "text/plain": [
       "    uniq_id                                                box\n",
       "0  55555550  [536.34716796875, 292.45703125, 33.32144927978...\n",
       "1  55555560  [96.11956024169922, 223.9429168701172, 14.0975...\n",
       "2  55555570  [283.3476257324219, 463.2962951660156, 109.407...\n",
       "3  55555580  [241.1437225341797, 286.4321594238281, 315.688...\n",
       "4  55555590  [329.36968994140625, 413.3141174316406, 135.84..."
      ]
     },
     "execution_count": 62,
     "metadata": {},
     "output_type": "execute_result"
    }
   ],
   "source": [
    "predictions = pd.read_json('/OFA/results/refcoco/refcoco_test_private_old_predict.json')\n",
    "predictions.head()"
   ]
  },
  {
   "cell_type": "code",
   "execution_count": 63,
   "metadata": {},
   "outputs": [],
   "source": [
    "# coco_val, train\n",
    "ious = [0 for i in id_pairs]\n",
    "for i in range(len(id_pairs)):\n",
    "    row = test_private.iloc[id_pairs[i]]\n",
    "    # print(coco_val[i])\n",
    "    # break\n",
    "    bb1 = {'x1': row['left'], 'x2': row['right'], 'y1': row['top'], 'y2': row['bottom']}\n",
    "    pred_row = predictions.iloc[i]['box']\n",
    "    left = pred_row[0] - pred_row[2] / 2.\n",
    "    right = pred_row[0] + pred_row[2] / 2.\n",
    "    top = pred_row[1] - pred_row[3] / 2.\n",
    "    bot = pred_row[1] + pred_row[3] / 2.\n",
    "\n",
    "    # print(pred_row)\n",
    "    # break\n",
    "    bb2 = {'x1': left, 'x2': right, 'y1': top, 'y2': bot}\n",
    "    ious[i] = get_iou(bb1, bb2)"
   ]
  },
  {
   "cell_type": "code",
   "execution_count": 64,
   "metadata": {},
   "outputs": [
    {
     "name": "stdout",
     "output_type": "stream",
     "text": [
      "Pecrentle 10-th : 0.0\n",
      "Pecrentle 20-th : 0.12034301194055519\n",
      "Pecrentle 30-th : 0.5037952494844375\n",
      "Pecrentle 40-th : 0.612764344144506\n",
      "Pecrentle 50-th : 0.6775647935081459\n",
      "Pecrentle 60-th : 0.7267954668956867\n",
      "Pecrentle 70-th : 0.7673190843630137\n",
      "Pecrentle 80-th : 0.8043789734177903\n",
      "Pecrentle 90-th : 0.8459440336664855\n",
      "Pecrentle 100-th : 0.9831115231117139\n",
      "Mean value : 0.552905976262182\n"
     ]
    }
   ],
   "source": [
    "for i in range(10, 101, 10):\n",
    "    print(f'Pecrentle {i}-th : {np.percentile(ious, i)}')\n",
    "print(f'Mean value : {np.mean(ious)}')"
   ]
  },
  {
   "cell_type": "code",
   "execution_count": null,
   "metadata": {},
   "outputs": [],
   "source": []
  }
 ],
 "metadata": {
  "kernelspec": {
   "display_name": "Python 3",
   "language": "python",
   "name": "python3"
  },
  "language_info": {
   "codemirror_mode": {
    "name": "ipython",
    "version": 3
   },
   "file_extension": ".py",
   "mimetype": "text/x-python",
   "name": "python",
   "nbconvert_exporter": "python",
   "pygments_lexer": "ipython3",
   "version": "3.8.3"
  }
 },
 "nbformat": 4,
 "nbformat_minor": 2
}
